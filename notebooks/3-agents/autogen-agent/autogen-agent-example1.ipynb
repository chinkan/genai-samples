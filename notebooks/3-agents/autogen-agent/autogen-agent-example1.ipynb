{
 "cells": [
  {
   "cell_type": "code",
   "execution_count": 1,
   "metadata": {},
   "outputs": [
    {
     "name": "stdout",
     "output_type": "stream",
     "text": [
      "Requirement already satisfied: autogen-ext[azure,openai,web-surfer] in /Users/kan/my-workspaces/genai-samples/.venv/lib/python3.12/site-packages (0.4.8.2)\n",
      "Requirement already satisfied: autogen-core==0.4.8.2 in /Users/kan/my-workspaces/genai-samples/.venv/lib/python3.12/site-packages (from autogen-ext[azure,openai,web-surfer]) (0.4.8.2)\n",
      "Requirement already satisfied: azure-ai-inference>=1.0.0b7 in /Users/kan/my-workspaces/genai-samples/.venv/lib/python3.12/site-packages (from autogen-ext[azure,openai,web-surfer]) (1.0.0b9)\n",
      "Requirement already satisfied: azure-core in /Users/kan/my-workspaces/genai-samples/.venv/lib/python3.12/site-packages (from autogen-ext[azure,openai,web-surfer]) (1.32.0)\n",
      "Requirement already satisfied: azure-identity in /Users/kan/my-workspaces/genai-samples/.venv/lib/python3.12/site-packages (from autogen-ext[azure,openai,web-surfer]) (1.21.0)\n",
      "Requirement already satisfied: aiofiles in /Users/kan/my-workspaces/genai-samples/.venv/lib/python3.12/site-packages (from autogen-ext[azure,openai,web-surfer]) (24.1.0)\n",
      "Requirement already satisfied: openai>=1.52.2 in /Users/kan/my-workspaces/genai-samples/.venv/lib/python3.12/site-packages (from autogen-ext[azure,openai,web-surfer]) (1.61.0)\n",
      "Requirement already satisfied: tiktoken>=0.8.0 in /Users/kan/my-workspaces/genai-samples/.venv/lib/python3.12/site-packages (from autogen-ext[azure,openai,web-surfer]) (0.8.0)\n",
      "Requirement already satisfied: autogen-agentchat==0.4.8.2 in /Users/kan/my-workspaces/genai-samples/.venv/lib/python3.12/site-packages (from autogen-ext[azure,openai,web-surfer]) (0.4.8.2)\n",
      "Requirement already satisfied: markitdown>=0.0.1a2 in /Users/kan/my-workspaces/genai-samples/.venv/lib/python3.12/site-packages (from autogen-ext[azure,openai,web-surfer]) (0.0.1a3)\n",
      "Collecting pillow>=11.0.0 (from autogen-ext[azure,openai,web-surfer])\n",
      "  Using cached pillow-11.1.0-cp312-cp312-macosx_10_13_x86_64.whl.metadata (9.1 kB)\n",
      "Requirement already satisfied: playwright>=1.48.0 in /Users/kan/my-workspaces/genai-samples/.venv/lib/python3.12/site-packages (from autogen-ext[azure,openai,web-surfer]) (1.50.0)\n",
      "Requirement already satisfied: jsonref~=1.1.0 in /Users/kan/my-workspaces/genai-samples/.venv/lib/python3.12/site-packages (from autogen-core==0.4.8.2->autogen-ext[azure,openai,web-surfer]) (1.1.0)\n",
      "Requirement already satisfied: opentelemetry-api>=1.27.0 in /Users/kan/my-workspaces/genai-samples/.venv/lib/python3.12/site-packages (from autogen-core==0.4.8.2->autogen-ext[azure,openai,web-surfer]) (1.30.0)\n",
      "Requirement already satisfied: protobuf~=5.29.3 in /Users/kan/my-workspaces/genai-samples/.venv/lib/python3.12/site-packages (from autogen-core==0.4.8.2->autogen-ext[azure,openai,web-surfer]) (5.29.3)\n",
      "Requirement already satisfied: pydantic<3.0.0,>=2.10.0 in /Users/kan/my-workspaces/genai-samples/.venv/lib/python3.12/site-packages (from autogen-core==0.4.8.2->autogen-ext[azure,openai,web-surfer]) (2.10.6)\n",
      "Requirement already satisfied: typing-extensions>=4.0.0 in /Users/kan/my-workspaces/genai-samples/.venv/lib/python3.12/site-packages (from autogen-core==0.4.8.2->autogen-ext[azure,openai,web-surfer]) (4.12.2)\n",
      "Requirement already satisfied: isodate>=0.6.1 in /Users/kan/my-workspaces/genai-samples/.venv/lib/python3.12/site-packages (from azure-ai-inference>=1.0.0b7->autogen-ext[azure,openai,web-surfer]) (0.7.2)\n",
      "Requirement already satisfied: requests>=2.21.0 in /Users/kan/my-workspaces/genai-samples/.venv/lib/python3.12/site-packages (from azure-core->autogen-ext[azure,openai,web-surfer]) (2.32.3)\n",
      "Requirement already satisfied: six>=1.11.0 in /Users/kan/my-workspaces/genai-samples/.venv/lib/python3.12/site-packages (from azure-core->autogen-ext[azure,openai,web-surfer]) (1.17.0)\n",
      "Requirement already satisfied: beautifulsoup4 in /Users/kan/my-workspaces/genai-samples/.venv/lib/python3.12/site-packages (from markitdown>=0.0.1a2->autogen-ext[azure,openai,web-surfer]) (4.13.3)\n",
      "Requirement already satisfied: charset-normalizer in /Users/kan/my-workspaces/genai-samples/.venv/lib/python3.12/site-packages (from markitdown>=0.0.1a2->autogen-ext[azure,openai,web-surfer]) (3.4.1)\n",
      "Requirement already satisfied: mammoth in /Users/kan/my-workspaces/genai-samples/.venv/lib/python3.12/site-packages (from markitdown>=0.0.1a2->autogen-ext[azure,openai,web-surfer]) (1.9.0)\n",
      "Requirement already satisfied: markdownify in /Users/kan/my-workspaces/genai-samples/.venv/lib/python3.12/site-packages (from markitdown>=0.0.1a2->autogen-ext[azure,openai,web-surfer]) (0.14.1)\n",
      "Requirement already satisfied: numpy in /Users/kan/my-workspaces/genai-samples/.venv/lib/python3.12/site-packages (from markitdown>=0.0.1a2->autogen-ext[azure,openai,web-surfer]) (1.26.4)\n",
      "Requirement already satisfied: openpyxl in /Users/kan/my-workspaces/genai-samples/.venv/lib/python3.12/site-packages (from markitdown>=0.0.1a2->autogen-ext[azure,openai,web-surfer]) (3.1.5)\n",
      "Requirement already satisfied: pandas in /Users/kan/my-workspaces/genai-samples/.venv/lib/python3.12/site-packages (from markitdown>=0.0.1a2->autogen-ext[azure,openai,web-surfer]) (2.2.3)\n",
      "Requirement already satisfied: pathvalidate in /Users/kan/my-workspaces/genai-samples/.venv/lib/python3.12/site-packages (from markitdown>=0.0.1a2->autogen-ext[azure,openai,web-surfer]) (3.2.3)\n",
      "Requirement already satisfied: pdfminer-six in /Users/kan/my-workspaces/genai-samples/.venv/lib/python3.12/site-packages (from markitdown>=0.0.1a2->autogen-ext[azure,openai,web-surfer]) (20240706)\n",
      "Requirement already satisfied: puremagic in /Users/kan/my-workspaces/genai-samples/.venv/lib/python3.12/site-packages (from markitdown>=0.0.1a2->autogen-ext[azure,openai,web-surfer]) (1.28)\n",
      "Requirement already satisfied: pydub in /Users/kan/my-workspaces/genai-samples/.venv/lib/python3.12/site-packages (from markitdown>=0.0.1a2->autogen-ext[azure,openai,web-surfer]) (0.25.1)\n",
      "Requirement already satisfied: python-pptx in /Users/kan/my-workspaces/genai-samples/.venv/lib/python3.12/site-packages (from markitdown>=0.0.1a2->autogen-ext[azure,openai,web-surfer]) (1.0.2)\n",
      "Requirement already satisfied: speechrecognition in /Users/kan/my-workspaces/genai-samples/.venv/lib/python3.12/site-packages (from markitdown>=0.0.1a2->autogen-ext[azure,openai,web-surfer]) (3.14.1)\n",
      "Requirement already satisfied: youtube-transcript-api in /Users/kan/my-workspaces/genai-samples/.venv/lib/python3.12/site-packages (from markitdown>=0.0.1a2->autogen-ext[azure,openai,web-surfer]) (0.6.3)\n",
      "Requirement already satisfied: anyio<5,>=3.5.0 in /Users/kan/my-workspaces/genai-samples/.venv/lib/python3.12/site-packages (from openai>=1.52.2->autogen-ext[azure,openai,web-surfer]) (4.8.0)\n",
      "Requirement already satisfied: distro<2,>=1.7.0 in /Users/kan/my-workspaces/genai-samples/.venv/lib/python3.12/site-packages (from openai>=1.52.2->autogen-ext[azure,openai,web-surfer]) (1.9.0)\n",
      "Requirement already satisfied: httpx<1,>=0.23.0 in /Users/kan/my-workspaces/genai-samples/.venv/lib/python3.12/site-packages (from openai>=1.52.2->autogen-ext[azure,openai,web-surfer]) (0.27.2)\n",
      "Requirement already satisfied: jiter<1,>=0.4.0 in /Users/kan/my-workspaces/genai-samples/.venv/lib/python3.12/site-packages (from openai>=1.52.2->autogen-ext[azure,openai,web-surfer]) (0.8.2)\n",
      "Requirement already satisfied: sniffio in /Users/kan/my-workspaces/genai-samples/.venv/lib/python3.12/site-packages (from openai>=1.52.2->autogen-ext[azure,openai,web-surfer]) (1.3.1)\n",
      "Requirement already satisfied: tqdm>4 in /Users/kan/my-workspaces/genai-samples/.venv/lib/python3.12/site-packages (from openai>=1.52.2->autogen-ext[azure,openai,web-surfer]) (4.67.1)\n",
      "Requirement already satisfied: pyee<13,>=12 in /Users/kan/my-workspaces/genai-samples/.venv/lib/python3.12/site-packages (from playwright>=1.48.0->autogen-ext[azure,openai,web-surfer]) (12.1.1)\n",
      "Requirement already satisfied: greenlet<4.0.0,>=3.1.1 in /Users/kan/my-workspaces/genai-samples/.venv/lib/python3.12/site-packages (from playwright>=1.48.0->autogen-ext[azure,openai,web-surfer]) (3.1.1)\n",
      "Requirement already satisfied: regex>=2022.1.18 in /Users/kan/my-workspaces/genai-samples/.venv/lib/python3.12/site-packages (from tiktoken>=0.8.0->autogen-ext[azure,openai,web-surfer]) (2024.11.6)\n",
      "Requirement already satisfied: cryptography>=2.5 in /Users/kan/my-workspaces/genai-samples/.venv/lib/python3.12/site-packages (from azure-identity->autogen-ext[azure,openai,web-surfer]) (44.0.0)\n",
      "Requirement already satisfied: msal>=1.30.0 in /Users/kan/my-workspaces/genai-samples/.venv/lib/python3.12/site-packages (from azure-identity->autogen-ext[azure,openai,web-surfer]) (1.31.1)\n",
      "Requirement already satisfied: msal-extensions>=1.2.0 in /Users/kan/my-workspaces/genai-samples/.venv/lib/python3.12/site-packages (from azure-identity->autogen-ext[azure,openai,web-surfer]) (1.2.0)\n",
      "Requirement already satisfied: idna>=2.8 in /Users/kan/my-workspaces/genai-samples/.venv/lib/python3.12/site-packages (from anyio<5,>=3.5.0->openai>=1.52.2->autogen-ext[azure,openai,web-surfer]) (3.10)\n",
      "Requirement already satisfied: cffi>=1.12 in /Users/kan/my-workspaces/genai-samples/.venv/lib/python3.12/site-packages (from cryptography>=2.5->azure-identity->autogen-ext[azure,openai,web-surfer]) (1.17.1)\n",
      "Requirement already satisfied: certifi in /Users/kan/my-workspaces/genai-samples/.venv/lib/python3.12/site-packages (from httpx<1,>=0.23.0->openai>=1.52.2->autogen-ext[azure,openai,web-surfer]) (2025.1.31)\n",
      "Requirement already satisfied: httpcore==1.* in /Users/kan/my-workspaces/genai-samples/.venv/lib/python3.12/site-packages (from httpx<1,>=0.23.0->openai>=1.52.2->autogen-ext[azure,openai,web-surfer]) (1.0.7)\n",
      "Requirement already satisfied: h11<0.15,>=0.13 in /Users/kan/my-workspaces/genai-samples/.venv/lib/python3.12/site-packages (from httpcore==1.*->httpx<1,>=0.23.0->openai>=1.52.2->autogen-ext[azure,openai,web-surfer]) (0.14.0)\n",
      "Requirement already satisfied: PyJWT<3,>=1.0.0 in /Users/kan/my-workspaces/genai-samples/.venv/lib/python3.12/site-packages (from PyJWT[crypto]<3,>=1.0.0->msal>=1.30.0->azure-identity->autogen-ext[azure,openai,web-surfer]) (2.10.1)\n",
      "Requirement already satisfied: portalocker<3,>=1.4 in /Users/kan/my-workspaces/genai-samples/.venv/lib/python3.12/site-packages (from msal-extensions>=1.2.0->azure-identity->autogen-ext[azure,openai,web-surfer]) (2.10.1)\n",
      "Requirement already satisfied: deprecated>=1.2.6 in /Users/kan/my-workspaces/genai-samples/.venv/lib/python3.12/site-packages (from opentelemetry-api>=1.27.0->autogen-core==0.4.8.2->autogen-ext[azure,openai,web-surfer]) (1.2.18)\n",
      "Requirement already satisfied: importlib-metadata<=8.5.0,>=6.0 in /Users/kan/my-workspaces/genai-samples/.venv/lib/python3.12/site-packages (from opentelemetry-api>=1.27.0->autogen-core==0.4.8.2->autogen-ext[azure,openai,web-surfer]) (8.5.0)\n",
      "Requirement already satisfied: annotated-types>=0.6.0 in /Users/kan/my-workspaces/genai-samples/.venv/lib/python3.12/site-packages (from pydantic<3.0.0,>=2.10.0->autogen-core==0.4.8.2->autogen-ext[azure,openai,web-surfer]) (0.7.0)\n",
      "Requirement already satisfied: pydantic-core==2.27.2 in /Users/kan/my-workspaces/genai-samples/.venv/lib/python3.12/site-packages (from pydantic<3.0.0,>=2.10.0->autogen-core==0.4.8.2->autogen-ext[azure,openai,web-surfer]) (2.27.2)\n",
      "Requirement already satisfied: urllib3<3,>=1.21.1 in /Users/kan/my-workspaces/genai-samples/.venv/lib/python3.12/site-packages (from requests>=2.21.0->azure-core->autogen-ext[azure,openai,web-surfer]) (2.3.0)\n",
      "Requirement already satisfied: soupsieve>1.2 in /Users/kan/my-workspaces/genai-samples/.venv/lib/python3.12/site-packages (from beautifulsoup4->markitdown>=0.0.1a2->autogen-ext[azure,openai,web-surfer]) (2.6)\n",
      "Requirement already satisfied: cobble<0.2,>=0.1.3 in /Users/kan/my-workspaces/genai-samples/.venv/lib/python3.12/site-packages (from mammoth->markitdown>=0.0.1a2->autogen-ext[azure,openai,web-surfer]) (0.1.4)\n",
      "Requirement already satisfied: et-xmlfile in /Users/kan/my-workspaces/genai-samples/.venv/lib/python3.12/site-packages (from openpyxl->markitdown>=0.0.1a2->autogen-ext[azure,openai,web-surfer]) (2.0.0)\n",
      "Requirement already satisfied: python-dateutil>=2.8.2 in /Users/kan/my-workspaces/genai-samples/.venv/lib/python3.12/site-packages (from pandas->markitdown>=0.0.1a2->autogen-ext[azure,openai,web-surfer]) (2.9.0.post0)\n",
      "Requirement already satisfied: pytz>=2020.1 in /Users/kan/my-workspaces/genai-samples/.venv/lib/python3.12/site-packages (from pandas->markitdown>=0.0.1a2->autogen-ext[azure,openai,web-surfer]) (2025.1)\n",
      "Requirement already satisfied: tzdata>=2022.7 in /Users/kan/my-workspaces/genai-samples/.venv/lib/python3.12/site-packages (from pandas->markitdown>=0.0.1a2->autogen-ext[azure,openai,web-surfer]) (2025.1)\n",
      "Requirement already satisfied: XlsxWriter>=0.5.7 in /Users/kan/my-workspaces/genai-samples/.venv/lib/python3.12/site-packages (from python-pptx->markitdown>=0.0.1a2->autogen-ext[azure,openai,web-surfer]) (3.2.2)\n",
      "Requirement already satisfied: lxml>=3.1.0 in /Users/kan/my-workspaces/genai-samples/.venv/lib/python3.12/site-packages (from python-pptx->markitdown>=0.0.1a2->autogen-ext[azure,openai,web-surfer]) (5.3.0)\n",
      "Requirement already satisfied: defusedxml<0.8.0,>=0.7.1 in /Users/kan/my-workspaces/genai-samples/.venv/lib/python3.12/site-packages (from youtube-transcript-api->markitdown>=0.0.1a2->autogen-ext[azure,openai,web-surfer]) (0.7.1)\n",
      "Requirement already satisfied: pycparser in /Users/kan/my-workspaces/genai-samples/.venv/lib/python3.12/site-packages (from cffi>=1.12->cryptography>=2.5->azure-identity->autogen-ext[azure,openai,web-surfer]) (2.22)\n",
      "Requirement already satisfied: wrapt<2,>=1.10 in /Users/kan/my-workspaces/genai-samples/.venv/lib/python3.12/site-packages (from deprecated>=1.2.6->opentelemetry-api>=1.27.0->autogen-core==0.4.8.2->autogen-ext[azure,openai,web-surfer]) (1.17.2)\n",
      "Requirement already satisfied: zipp>=3.20 in /Users/kan/my-workspaces/genai-samples/.venv/lib/python3.12/site-packages (from importlib-metadata<=8.5.0,>=6.0->opentelemetry-api>=1.27.0->autogen-core==0.4.8.2->autogen-ext[azure,openai,web-surfer]) (3.21.0)\n",
      "Using cached pillow-11.1.0-cp312-cp312-macosx_10_13_x86_64.whl (3.2 MB)\n",
      "Installing collected packages: pillow\n",
      "  Attempting uninstall: pillow\n",
      "    Found existing installation: pillow 10.4.0\n",
      "    Uninstalling pillow-10.4.0:\n",
      "      Successfully uninstalled pillow-10.4.0\n",
      "\u001b[31mERROR: pip's dependency resolver does not currently take into account all the packages that are installed. This behaviour is the source of the following dependency conflicts.\n",
      "crawl4ai 0.4.248 requires pillow~=10.4, but you have pillow 11.1.0 which is incompatible.\u001b[0m\u001b[31m\n",
      "\u001b[0mSuccessfully installed pillow-11.1.0\n",
      "\n",
      "\u001b[1m[\u001b[0m\u001b[34;49mnotice\u001b[0m\u001b[1;39;49m]\u001b[0m\u001b[39;49m A new release of pip is available: \u001b[0m\u001b[31;49m25.0\u001b[0m\u001b[39;49m -> \u001b[0m\u001b[32;49m25.0.1\u001b[0m\n",
      "\u001b[1m[\u001b[0m\u001b[34;49mnotice\u001b[0m\u001b[1;39;49m]\u001b[0m\u001b[39;49m To update, run: \u001b[0m\u001b[32;49mpip install --upgrade pip\u001b[0m\n",
      "Note: you may need to restart the kernel to use updated packages.\n"
     ]
    }
   ],
   "source": [
    "# Install AgentChat and OpenAI client from Extensions\n",
    "%pip install \"autogen-ext[openai,azure,web-surfer]\""
   ]
  },
  {
   "cell_type": "code",
   "execution_count": 2,
   "metadata": {},
   "outputs": [
    {
     "name": "stdout",
     "output_type": "stream",
     "text": [
      "Requirement already satisfied: ipywidgets in /Users/kan/my-workspaces/genai-samples/.venv/lib/python3.12/site-packages (8.1.5)\n",
      "Requirement already satisfied: comm>=0.1.3 in /Users/kan/my-workspaces/genai-samples/.venv/lib/python3.12/site-packages (from ipywidgets) (0.2.2)\n",
      "Requirement already satisfied: ipython>=6.1.0 in /Users/kan/my-workspaces/genai-samples/.venv/lib/python3.12/site-packages (from ipywidgets) (8.32.0)\n",
      "Requirement already satisfied: traitlets>=4.3.1 in /Users/kan/my-workspaces/genai-samples/.venv/lib/python3.12/site-packages (from ipywidgets) (5.14.3)\n",
      "Requirement already satisfied: widgetsnbextension~=4.0.12 in /Users/kan/my-workspaces/genai-samples/.venv/lib/python3.12/site-packages (from ipywidgets) (4.0.13)\n",
      "Requirement already satisfied: jupyterlab-widgets~=3.0.12 in /Users/kan/my-workspaces/genai-samples/.venv/lib/python3.12/site-packages (from ipywidgets) (3.0.13)\n",
      "Requirement already satisfied: decorator in /Users/kan/my-workspaces/genai-samples/.venv/lib/python3.12/site-packages (from ipython>=6.1.0->ipywidgets) (5.1.1)\n",
      "Requirement already satisfied: jedi>=0.16 in /Users/kan/my-workspaces/genai-samples/.venv/lib/python3.12/site-packages (from ipython>=6.1.0->ipywidgets) (0.19.2)\n",
      "Requirement already satisfied: matplotlib-inline in /Users/kan/my-workspaces/genai-samples/.venv/lib/python3.12/site-packages (from ipython>=6.1.0->ipywidgets) (0.1.7)\n",
      "Requirement already satisfied: pexpect>4.3 in /Users/kan/my-workspaces/genai-samples/.venv/lib/python3.12/site-packages (from ipython>=6.1.0->ipywidgets) (4.9.0)\n",
      "Requirement already satisfied: prompt_toolkit<3.1.0,>=3.0.41 in /Users/kan/my-workspaces/genai-samples/.venv/lib/python3.12/site-packages (from ipython>=6.1.0->ipywidgets) (3.0.50)\n",
      "Requirement already satisfied: pygments>=2.4.0 in /Users/kan/my-workspaces/genai-samples/.venv/lib/python3.12/site-packages (from ipython>=6.1.0->ipywidgets) (2.19.1)\n",
      "Requirement already satisfied: stack_data in /Users/kan/my-workspaces/genai-samples/.venv/lib/python3.12/site-packages (from ipython>=6.1.0->ipywidgets) (0.6.3)\n",
      "Requirement already satisfied: parso<0.9.0,>=0.8.4 in /Users/kan/my-workspaces/genai-samples/.venv/lib/python3.12/site-packages (from jedi>=0.16->ipython>=6.1.0->ipywidgets) (0.8.4)\n",
      "Requirement already satisfied: ptyprocess>=0.5 in /Users/kan/my-workspaces/genai-samples/.venv/lib/python3.12/site-packages (from pexpect>4.3->ipython>=6.1.0->ipywidgets) (0.7.0)\n",
      "Requirement already satisfied: wcwidth in /Users/kan/my-workspaces/genai-samples/.venv/lib/python3.12/site-packages (from prompt_toolkit<3.1.0,>=3.0.41->ipython>=6.1.0->ipywidgets) (0.2.13)\n",
      "Requirement already satisfied: executing>=1.2.0 in /Users/kan/my-workspaces/genai-samples/.venv/lib/python3.12/site-packages (from stack_data->ipython>=6.1.0->ipywidgets) (2.2.0)\n",
      "Requirement already satisfied: asttokens>=2.1.0 in /Users/kan/my-workspaces/genai-samples/.venv/lib/python3.12/site-packages (from stack_data->ipython>=6.1.0->ipywidgets) (3.0.0)\n",
      "Requirement already satisfied: pure-eval in /Users/kan/my-workspaces/genai-samples/.venv/lib/python3.12/site-packages (from stack_data->ipython>=6.1.0->ipywidgets) (0.2.3)\n",
      "\n",
      "\u001b[1m[\u001b[0m\u001b[34;49mnotice\u001b[0m\u001b[1;39;49m]\u001b[0m\u001b[39;49m A new release of pip is available: \u001b[0m\u001b[31;49m25.0\u001b[0m\u001b[39;49m -> \u001b[0m\u001b[32;49m25.0.1\u001b[0m\n",
      "\u001b[1m[\u001b[0m\u001b[34;49mnotice\u001b[0m\u001b[1;39;49m]\u001b[0m\u001b[39;49m To update, run: \u001b[0m\u001b[32;49mpip install --upgrade pip\u001b[0m\n",
      "Note: you may need to restart the kernel to use updated packages.\n"
     ]
    }
   ],
   "source": [
    "# %pip install crawl4ai # currently not compatible with autogen as it depends on a different version of pillow\n",
    "\n",
    "%pip install ipywidgets"
   ]
  },
  {
   "cell_type": "code",
   "execution_count": 3,
   "metadata": {},
   "outputs": [
    {
     "data": {
      "text/plain": [
       "True"
      ]
     },
     "execution_count": 3,
     "metadata": {},
     "output_type": "execute_result"
    }
   ],
   "source": [
    "# Load .env file\n",
    "from dotenv import load_dotenv\n",
    "load_dotenv()"
   ]
  },
  {
   "cell_type": "code",
   "execution_count": 4,
   "metadata": {},
   "outputs": [
    {
     "name": "stdout",
     "output_type": "stream",
     "text": [
      "TaskResult(messages=[TextMessage(source='user', models_usage=None, metadata={}, content=\"Say 'Hello World!'\", type='TextMessage'), TextMessage(source='assistant', models_usage=RequestUsage(prompt_tokens=41, completion_tokens=3), metadata={}, content='Hello World!', type='TextMessage')], stop_reason=None)\n"
     ]
    }
   ],
   "source": [
    "import os\n",
    "from autogen_agentchat.agents import AssistantAgent\n",
    "from autogen_ext.models.openai import AzureOpenAIChatCompletionClient\n",
    "\n",
    "agent = AssistantAgent(\"assistant\", AzureOpenAIChatCompletionClient(\n",
    "    model=\"gpt-4o\", \n",
    "    azure_deployment=os.environ[\"AZURE_OPENAI_DEPLOYMENT_NAME\"],\n",
    "    azure_endpoint=os.environ[\"AZURE_OPENAI_ENDPOINT\"],\n",
    "    api_key=os.environ[\"AZURE_OPENAI_API_KEY\"],\n",
    "    api_version=os.environ[\"OPENAI_API_VERSION\"],\n",
    "))\n",
    "result = await agent.run(task=\"Say 'Hello World!'\")\n",
    "print(result)"
   ]
  },
  {
   "cell_type": "code",
   "execution_count": null,
   "metadata": {},
   "outputs": [
    {
     "name": "stdout",
     "output_type": "stream",
     "text": [
      "---------- user ----------\n",
      "Find information about AutoGen and write a short summary.\n",
      "---------- web_surfer ----------\n",
      "I typed 'AutoGen' into '0 個字元，共 2000 個字元'.\n",
      "\n",
      "The web browser is open to the page [AutoGen - 搜尋](https://www.bing.com/search?q=AutoGen&form=QBLH&sp=-1&lq=0&pq=&sc=0-0&qs=n&sk=&cvid=5D9102702D5340AB9EBC2DACF920A462&ghsh=0&ghacc=0&ghpl=).\n",
      "The viewport shows 25% of the webpage, and is positioned at the top of the page\n",
      "The following text is visible in the viewport:\n",
      "\n",
      "跳至內容\n",
      "AutoGen搜尋優化\n",
      "全部\n",
      "Copilot\n",
      "影片\n",
      "圖片\n",
      "地圖\n",
      "新聞\n",
      "更多\n",
      "工具\n",
      "約有 132,000 個結果microsoft.github.io\n",
      "https://microsoft.github.io › autogen\n",
      "AutoGen | AutoGen 0.2AutoGen provides multi-agent conversation framework as a high-level abstraction. With this framework, one can conveniently build LLM workflows. Easily Build Diverse Applications\n",
      "BlogThis new package name was used to align with the new packages that will come …\n",
      "DocsAutoGen aims to provide an easy-to-use and flexible framework for accelerating …\n",
      "ExamplesExamples Automated Multi Agent Chat AutoGen offers conversable agents …\n",
      "InstallationWhen installing AutoGen locally, we recommend using a virtual environment …\n",
      "EcosystemPortkey is a 2-line upgrade to make your AutoGen agents reliable, cost-efficient, …\n",
      "User GuideUser Guide 🗃 Code Execution 5 items 🗃 OpenAI Assistant 1 items 🗃 GroupChat 4 …\n",
      "FAQsThe name of Autogen package at PyPI is autogen-agentchat: pip install autogen …\n",
      "Application GalleryThis page contains a list of demos that use AutoGen in various applications from the …\n",
      "僅顯示來自 microsoft.github.io 的搜尋結果\n",
      "Github\n",
      "https://github.com › microsoft › autogen\n",
      "GitHub - microsoft/autogen: A programming framework for …AutoGen\n",
      "What is AutoGen\n",
      "Quickstart\n",
      "Installation\n",
      "Multi-Agent Conversation Framework\n",
      "Enhanced LLM Inferences\n",
      "Documentation\n",
      "Contributing\n",
      "Legal Notices\n",
      "📚 Cite paper.\n",
      "🔥 Jan 30: AutoGen is highlighted by Peter Lee in Microsoft Research Forum Keynote.\n",
      "⚠️ Jan 23: Breaking Change in Latest Release v0.2.8 use_docker defaults to True for code-ex…🔥 Dec 31: AutoGen: Enabling Next-Gen LLM Applications via Multi-Agent Conversation Framework is selected by TheSequence: My Five Favorite AI Papers of 2023.\n",
      "「\n",
      "AutoGen」相關搜尋\n",
      "autogen Microsoft\n",
      "autogen 教學\n",
      "autogen 2.0\n",
      "autogen 0.4 download\n",
      "autogen tutorial\n",
      "autogen vs semantic kernel\n",
      "autogenstudio\n",
      "autogen assistantagent\n",
      "\n",
      "The following metadata was extracted from the webpage:\n",
      "\n",
      "{\n",
      "    \"meta_tags\": {\n",
      "        \"referrer\": \"origin-when-cross-origin\",\n",
      "        \"SystemEntropyOriginTrialToken\": \"A5is4nwJJVnhaJpUr1URgj4vvAXSiHoK0VBbM9fawMskbDUj9WUREpa3JzGAo6xd1Cp2voQEG1h6NQ71AsMznU8AAABxeyJvcmlnaW4iOiJodHRwczovL3d3dy5iaW5nLmNvbTo0NDMiLCJmZWF0dXJlIjoiTXNVc2VyQWdlbnRMYXVuY2hOYXZUeXBlIiwiZXhwaXJ5IjoxNzUzNzQ3MjAwLCJpc1N1YmRvbWFpbiI6dHJ1ZX0=\",\n",
      "        \"og:description\": \"Bing \\u7684\\u667a\\u6167\\u578b\\u641c\\u5c0b\\u53ef\\u8b93\\u60a8\\u66f4\\u8f15\\u800c\\u6613\\u8209\\u627e\\u5230\\u60f3\\u627e\\u7684\\u8cc7\\u8a0a\\uff0c\\u540c\\u6642\\u9084\\u56e0\\u6b64\\u7372\\u5f97\\u734e\\u52f5\\u3002\",\n",
      "        \"og:site_name\": \"Bing\",\n",
      "        \"og:title\": \"AutoGen - Bing\",\n",
      "        \"og:url\": \"https://www.bing.com/search?q=AutoGen&form=QBLH&sp=-1&lq=0&pq=&sc=0-0&qs=n&sk=&cvid=5D9102702D5340AB9EBC2DACF920A462&ghsh=0&ghacc=0&ghpl=\",\n",
      "        \"fb:app_id\": \"3732605936979161\",\n",
      "        \"og:image\": \"http://www.bing.com/sa/simg/facebook_sharing_5.png\",\n",
      "        \"og:type\": \"website\",\n",
      "        \"og:image:width\": \"600\",\n",
      "        \"og:image:height\": \"315\"\n",
      "    }\n",
      "}\n",
      "\n",
      "Here is a screenshot of the page.\n",
      "<image>\n",
      "---------- assistant ----------\n",
      "AutoGen is a programming framework developed by Microsoft, designed to facilitate building applications involving multi-agent conversations and enhanced large language model (LLM) inferences. It offers an easy-to-use and flexible framework enabling diverse applications by providing high-level abstractions for multi-agent conversations. AutoGen's features include automated multi-agent chats, code execution, and group chat capabilities. It aims to make creating reliable and cost-efficient conversation agents simple and efficient. The tool is supported by a comprehensive set of documentation, tutorials, and an ecosystem for enhancing agent reliability. AutoGen has been highlighted for its contributions to AI development, particularly in enabling next-generation LLM applications. TERMINATE\n"
     ]
    }
   ],
   "source": [
    "from autogen_agentchat.agents import AssistantAgent, UserProxyAgent\n",
    "from autogen_agentchat.conditions import TextMentionTermination\n",
    "from autogen_agentchat.teams import RoundRobinGroupChat\n",
    "from autogen_agentchat.ui import Console\n",
    "from autogen_ext.models.openai import AzureOpenAIChatCompletionClient\n",
    "from autogen_ext.agents.web_surfer import MultimodalWebSurfer\n",
    "\n",
    "model_client = AzureOpenAIChatCompletionClient(\n",
    "    model=\"gpt-4o\", \n",
    "    azure_deployment=os.environ[\"AZURE_OPENAI_DEPLOYMENT_NAME\"],\n",
    "    azure_endpoint=os.environ[\"AZURE_OPENAI_ENDPOINT\"],\n",
    "    api_key=os.environ[\"AZURE_OPENAI_API_KEY\"],\n",
    "    api_version=os.environ[\"OPENAI_API_VERSION\"],\n",
    ")\n",
    "assistant = AssistantAgent(\"assistant\", model_client)\n",
    "web_surfer = MultimodalWebSurfer(\"web_surfer\", model_client)\n",
    "user_proxy = UserProxyAgent(\"user_proxy\")\n",
    "termination = TextMentionTermination(\"exit\") # Type 'exit' to end the conversation.\n",
    "team = RoundRobinGroupChat([web_surfer, assistant, user_proxy], termination_condition=termination)\n",
    "await Console(team.run_stream(task=\"Find information about AutoGen and write a short summary.\"))"
   ]
  },
  {
   "cell_type": "code",
   "execution_count": null,
   "metadata": {},
   "outputs": [
    {
     "name": "stdout",
     "output_type": "stream",
     "text": [
      "---------- user ----------\n",
      "Summarize all news on HK01 in yesterday in cantonese\n",
      "---------- web_surfer ----------\n",
      "The webpage \"最新即時新聞\" from 香港01 provides a comprehensive overview of various current news categories, including local news, international affairs, lifestyle, and economics. A highlighted feature advises readers on coping with flight anxiety, suggesting three methods taught by doctors. Additionally, the site reports on a lunar surface observation expected to reveal an \"X\" shape, with expert recommendations on the best viewing times. Further coverage includes news about new drugs expected to enhance profitability for Hutchison's pharmaceutical division, and educational insights on helping children readjust to school routines. The page serves as a hub for the latest news and updates across different domains relevant to Hong Kong and international audiences.\n",
      "---------- assistant ----------\n",
      "以下是香港01昨天的主要新聞摘要：\n",
      "\n",
      "1. **健康旅遊**: 提供旅遊指南，針對搭飛機時感到緊張的旅客，分享醫生建議的三招應對方法，以克服飛行恐懼。\n",
      "\n",
      "2. **天文觀察**: 介紹今年首場月球觀測，預計月球表面會現出“X”形地貌，並提供專家建議的最佳觀賞時間。\n",
      "\n",
      "3. **商業財經**: 和黃醫藥有限公司預期多項新藥將獲批准上市，從而提升公司的整體盈利能力。\n",
      "\n",
      "4. **教育生活**: 開學在即，專家分享讓孩子重新適應學校生活的小技巧，強調充足睡眠的重要性。\n",
      "\n",
      "5. **國際事務**: 據報道，中國正考慮對半導體龍頭英特爾展開反壟斷調查。\n",
      "\n",
      "這些新聞涵蓋了健康、科學、商業、教育及國際等多個領域的最新動態。 \n",
      "\n",
      "TERMINATE\n",
      "---------- user_proxy ----------\n",
      "exit\n"
     ]
    },
    {
     "data": {
      "text/plain": [
       "TaskResult(messages=[TextMessage(source='user', models_usage=None, content='Summarize all news on HK01 in yesterday in cantonese', type='TextMessage'), TextMessage(source='web_surfer', models_usage=RequestUsage(prompt_tokens=21334, completion_tokens=179), content='The webpage \"最新即時新聞\" from 香港01 provides a comprehensive overview of various current news categories, including local news, international affairs, lifestyle, and economics. A highlighted feature advises readers on coping with flight anxiety, suggesting three methods taught by doctors. Additionally, the site reports on a lunar surface observation expected to reveal an \"X\" shape, with expert recommendations on the best viewing times. Further coverage includes news about new drugs expected to enhance profitability for Hutchison\\'s pharmaceutical division, and educational insights on helping children readjust to school routines. The page serves as a hub for the latest news and updates across different domains relevant to Hong Kong and international audiences.', type='TextMessage'), TextMessage(source='assistant', models_usage=RequestUsage(prompt_tokens=7999, completion_tokens=251), content='以下是香港01昨天的主要新聞摘要：\\n\\n1. **健康旅遊**: 提供旅遊指南，針對搭飛機時感到緊張的旅客，分享醫生建議的三招應對方法，以克服飛行恐懼。\\n\\n2. **天文觀察**: 介紹今年首場月球觀測，預計月球表面會現出“X”形地貌，並提供專家建議的最佳觀賞時間。\\n\\n3. **商業財經**: 和黃醫藥有限公司預期多項新藥將獲批准上市，從而提升公司的整體盈利能力。\\n\\n4. **教育生活**: 開學在即，專家分享讓孩子重新適應學校生活的小技巧，強調充足睡眠的重要性。\\n\\n5. **國際事務**: 據報道，中國正考慮對半導體龍頭英特爾展開反壟斷調查。\\n\\n這些新聞涵蓋了健康、科學、商業、教育及國際等多個領域的最新動態。 \\n\\nTERMINATE', type='TextMessage'), UserInputRequestedEvent(source='user_proxy', models_usage=None, request_id='c6f0f550-c6bc-4cfd-bbde-cf5b5c8d44c6', content='', type='UserInputRequestedEvent'), TextMessage(source='user_proxy', models_usage=None, content='exit', type='TextMessage')], stop_reason=\"Text 'exit' mentioned\")"
      ]
     },
     "execution_count": 6,
     "metadata": {},
     "output_type": "execute_result"
    }
   ],
   "source": [
    "await Console(team.run_stream(task=\"Summarize all news on HK01 in yesterday in cantonese\"))"
   ]
  },
  {
   "cell_type": "code",
   "execution_count": 2,
   "metadata": {},
   "outputs": [
    {
     "ename": "NameError",
     "evalue": "name 'Console' is not defined",
     "output_type": "error",
     "traceback": [
      "\u001b[0;31m---------------------------------------------------------------------------\u001b[0m",
      "\u001b[0;31mNameError\u001b[0m                                 Traceback (most recent call last)",
      "Cell \u001b[0;32mIn[2], line 1\u001b[0m\n\u001b[0;32m----> 1\u001b[0m \u001b[38;5;28;01mawait\u001b[39;00m \u001b[43mConsole\u001b[49m(team\u001b[38;5;241m.\u001b[39mrun_stream(task\u001b[38;5;241m=\u001b[39m\u001b[38;5;124m\"\u001b[39m\u001b[38;5;124mSummarize all news about GenAI on TechCrunch in yesterday in cantonese\u001b[39m\u001b[38;5;124m\"\u001b[39m))\n",
      "\u001b[0;31mNameError\u001b[0m: name 'Console' is not defined"
     ]
    }
   ],
   "source": [
    "await Console(team.run_stream(task=\"Summarize all news about GenAI on TechCrunch in yesterday in cantonese\"))"
   ]
  },
  {
   "cell_type": "code",
   "execution_count": 15,
   "metadata": {},
   "outputs": [
    {
     "ename": "FileNotFoundError",
     "evalue": "[Errno 2] No such file or directory: '/Users/kan/my-workspaces/genai-samples/.venv/lib/python3.12/site-packages/autogen_ext/agents/web_surfer/page_script.js'",
     "output_type": "error",
     "traceback": [
      "\u001b[0;31m---------------------------------------------------------------------------\u001b[0m",
      "\u001b[0;31mFileNotFoundError\u001b[0m                         Traceback (most recent call last)",
      "Cell \u001b[0;32mIn[15], line 24\u001b[0m\n\u001b[1;32m     16\u001b[0m model_client \u001b[38;5;241m=\u001b[39m AzureOpenAIChatCompletionClient(\n\u001b[1;32m     17\u001b[0m     model\u001b[38;5;241m=\u001b[39m\u001b[38;5;124m\"\u001b[39m\u001b[38;5;124mgpt-4o\u001b[39m\u001b[38;5;124m\"\u001b[39m, \n\u001b[1;32m     18\u001b[0m     azure_deployment\u001b[38;5;241m=\u001b[39mos\u001b[38;5;241m.\u001b[39menviron[\u001b[38;5;124m\"\u001b[39m\u001b[38;5;124mAZURE_OPENAI_DEPLOYMENT_NAME\u001b[39m\u001b[38;5;124m\"\u001b[39m],\n\u001b[0;32m   (...)\u001b[0m\n\u001b[1;32m     21\u001b[0m     api_version\u001b[38;5;241m=\u001b[39mos\u001b[38;5;241m.\u001b[39menviron[\u001b[38;5;124m\"\u001b[39m\u001b[38;5;124mOPENAI_API_VERSION\u001b[39m\u001b[38;5;124m\"\u001b[39m],\n\u001b[1;32m     22\u001b[0m )\n\u001b[1;32m     23\u001b[0m assistant \u001b[38;5;241m=\u001b[39m AssistantAgent(\u001b[38;5;124m\"\u001b[39m\u001b[38;5;124massistant\u001b[39m\u001b[38;5;124m\"\u001b[39m, model_client)\n\u001b[0;32m---> 24\u001b[0m web_surfer \u001b[38;5;241m=\u001b[39m \u001b[43mMultimodalWebSurfer\u001b[49m\u001b[43m(\u001b[49m\u001b[38;5;124;43m\"\u001b[39;49m\u001b[38;5;124;43mweb_surfer\u001b[39;49m\u001b[38;5;124;43m\"\u001b[39;49m\u001b[43m,\u001b[49m\u001b[43m \u001b[49m\u001b[43mmodel_client\u001b[49m\u001b[43m)\u001b[49m\n\u001b[1;32m     25\u001b[0m user_proxy \u001b[38;5;241m=\u001b[39m UserProxyAgent(\u001b[38;5;124m\"\u001b[39m\u001b[38;5;124muser_proxy\u001b[39m\u001b[38;5;124m\"\u001b[39m)\n\u001b[1;32m     26\u001b[0m fetch_website_agent \u001b[38;5;241m=\u001b[39m ToolAgent(\u001b[38;5;124m\"\u001b[39m\u001b[38;5;124mFetch a website content to be markdown from url\u001b[39m\u001b[38;5;124m\"\u001b[39m, tool\u001b[38;5;241m=\u001b[39mfetch_website)\n",
      "File \u001b[0;32m~/my-workspaces/genai-samples/.venv/lib/python3.12/site-packages/autogen_ext/agents/web_surfer/_multimodal_web_surfer.py:248\u001b[0m, in \u001b[0;36mMultimodalWebSurfer.__init__\u001b[0;34m(self, name, model_client, downloads_folder, description, debug_dir, headless, start_page, animate_actions, to_save_screenshots, use_ocr, browser_channel, browser_data_dir, to_resize_viewport, playwright, context)\u001b[0m\n\u001b[1;32m    245\u001b[0m \u001b[38;5;28mself\u001b[39m\u001b[38;5;241m.\u001b[39m_download_handler \u001b[38;5;241m=\u001b[39m _download_handler\n\u001b[1;32m    247\u001b[0m \u001b[38;5;66;03m# Define the Playwright controller that handles the browser interactions\u001b[39;00m\n\u001b[0;32m--> 248\u001b[0m \u001b[38;5;28mself\u001b[39m\u001b[38;5;241m.\u001b[39m_playwright_controller \u001b[38;5;241m=\u001b[39m \u001b[43mPlaywrightController\u001b[49m\u001b[43m(\u001b[49m\n\u001b[1;32m    249\u001b[0m \u001b[43m    \u001b[49m\u001b[43manimate_actions\u001b[49m\u001b[38;5;241;43m=\u001b[39;49m\u001b[38;5;28;43mself\u001b[39;49m\u001b[38;5;241;43m.\u001b[39;49m\u001b[43manimate_actions\u001b[49m\u001b[43m,\u001b[49m\n\u001b[1;32m    250\u001b[0m \u001b[43m    \u001b[49m\u001b[43mdownloads_folder\u001b[49m\u001b[38;5;241;43m=\u001b[39;49m\u001b[38;5;28;43mself\u001b[39;49m\u001b[38;5;241;43m.\u001b[39;49m\u001b[43mdownloads_folder\u001b[49m\u001b[43m,\u001b[49m\n\u001b[1;32m    251\u001b[0m \u001b[43m    \u001b[49m\u001b[43mviewport_width\u001b[49m\u001b[38;5;241;43m=\u001b[39;49m\u001b[38;5;28;43mself\u001b[39;49m\u001b[38;5;241;43m.\u001b[39;49m\u001b[43mVIEWPORT_WIDTH\u001b[49m\u001b[43m,\u001b[49m\n\u001b[1;32m    252\u001b[0m \u001b[43m    \u001b[49m\u001b[43mviewport_height\u001b[49m\u001b[38;5;241;43m=\u001b[39;49m\u001b[38;5;28;43mself\u001b[39;49m\u001b[38;5;241;43m.\u001b[39;49m\u001b[43mVIEWPORT_HEIGHT\u001b[49m\u001b[43m,\u001b[49m\n\u001b[1;32m    253\u001b[0m \u001b[43m    \u001b[49m\u001b[43m_download_handler\u001b[49m\u001b[38;5;241;43m=\u001b[39;49m\u001b[38;5;28;43mself\u001b[39;49m\u001b[38;5;241;43m.\u001b[39;49m\u001b[43m_download_handler\u001b[49m\u001b[43m,\u001b[49m\n\u001b[1;32m    254\u001b[0m \u001b[43m    \u001b[49m\u001b[43mto_resize_viewport\u001b[49m\u001b[38;5;241;43m=\u001b[39;49m\u001b[38;5;28;43mself\u001b[39;49m\u001b[38;5;241;43m.\u001b[39;49m\u001b[43mto_resize_viewport\u001b[49m\u001b[43m,\u001b[49m\n\u001b[1;32m    255\u001b[0m \u001b[43m\u001b[49m\u001b[43m)\u001b[49m\n\u001b[1;32m    256\u001b[0m \u001b[38;5;28mself\u001b[39m\u001b[38;5;241m.\u001b[39mdefault_tools \u001b[38;5;241m=\u001b[39m [\n\u001b[1;32m    257\u001b[0m     TOOL_VISIT_URL,\n\u001b[1;32m    258\u001b[0m     TOOL_WEB_SEARCH,\n\u001b[0;32m   (...)\u001b[0m\n\u001b[1;32m    265\u001b[0m     TOOL_HOVER,\n\u001b[1;32m    266\u001b[0m ]\n\u001b[1;32m    267\u001b[0m \u001b[38;5;66;03m# Number of lines of text to extract from the page in the absence of OCR\u001b[39;00m\n",
      "File \u001b[0;32m~/my-workspaces/genai-samples/.venv/lib/python3.12/site-packages/autogen_ext/agents/web_surfer/playwright_controller.py:67\u001b[0m, in \u001b[0;36mPlaywrightController.__init__\u001b[0;34m(self, downloads_folder, animate_actions, viewport_width, viewport_height, _download_handler, to_resize_viewport)\u001b[0m\n\u001b[1;32m     64\u001b[0m \u001b[38;5;28mself\u001b[39m\u001b[38;5;241m.\u001b[39m_markdown_converter: Optional[Any] \u001b[38;5;241m|\u001b[39m \u001b[38;5;28;01mNone\u001b[39;00m \u001b[38;5;241m=\u001b[39m \u001b[38;5;28;01mNone\u001b[39;00m\n\u001b[1;32m     66\u001b[0m \u001b[38;5;66;03m# Read page_script\u001b[39;00m\n\u001b[0;32m---> 67\u001b[0m \u001b[38;5;28;01mwith\u001b[39;00m \u001b[38;5;28;43mopen\u001b[39;49m\u001b[43m(\u001b[49m\u001b[43mos\u001b[49m\u001b[38;5;241;43m.\u001b[39;49m\u001b[43mpath\u001b[49m\u001b[38;5;241;43m.\u001b[39;49m\u001b[43mjoin\u001b[49m\u001b[43m(\u001b[49m\u001b[43mos\u001b[49m\u001b[38;5;241;43m.\u001b[39;49m\u001b[43mpath\u001b[49m\u001b[38;5;241;43m.\u001b[39;49m\u001b[43mabspath\u001b[49m\u001b[43m(\u001b[49m\u001b[43mos\u001b[49m\u001b[38;5;241;43m.\u001b[39;49m\u001b[43mpath\u001b[49m\u001b[38;5;241;43m.\u001b[39;49m\u001b[43mdirname\u001b[49m\u001b[43m(\u001b[49m\u001b[38;5;18;43m__file__\u001b[39;49m\u001b[43m)\u001b[49m\u001b[43m)\u001b[49m\u001b[43m,\u001b[49m\u001b[43m \u001b[49m\u001b[38;5;124;43m\"\u001b[39;49m\u001b[38;5;124;43mpage_script.js\u001b[39;49m\u001b[38;5;124;43m\"\u001b[39;49m\u001b[43m)\u001b[49m\u001b[43m,\u001b[49m\u001b[43m \u001b[49m\u001b[38;5;124;43m\"\u001b[39;49m\u001b[38;5;124;43mrt\u001b[39;49m\u001b[38;5;124;43m\"\u001b[39;49m\u001b[43m)\u001b[49m \u001b[38;5;28;01mas\u001b[39;00m fh:\n\u001b[1;32m     68\u001b[0m     \u001b[38;5;28mself\u001b[39m\u001b[38;5;241m.\u001b[39m_page_script \u001b[38;5;241m=\u001b[39m fh\u001b[38;5;241m.\u001b[39mread()\n",
      "\u001b[0;31mFileNotFoundError\u001b[0m: [Errno 2] No such file or directory: '/Users/kan/my-workspaces/genai-samples/.venv/lib/python3.12/site-packages/autogen_ext/agents/web_surfer/page_script.js'"
     ]
    }
   ],
   "source": [
    "from crawl4ai import AsyncWebCrawler\n",
    "from autogen_core.tools import FunctionTool\n",
    "from autogen_core.tool_agent import ToolAgent\n",
    "\n",
    "async def get_webpage_text(webpage_url: str):\n",
    "    async with AsyncWebCrawler(verbose=True,headless=True) as crawler:\n",
    "        result = await crawler.arun(\n",
    "            url=webpage_url,\n",
    "            bypass_cache=False,\n",
    "            verbose=False,\n",
    "        )\n",
    "        return result.markdown\n",
    "\n",
    "fetch_website = FunctionTool(get_webpage_text, description=\"Fetch website content to markdown from url.\")\n",
    "\n",
    "model_client = AzureOpenAIChatCompletionClient(\n",
    "    model=\"gpt-4o\", \n",
    "    azure_deployment=os.environ[\"AZURE_OPENAI_DEPLOYMENT_NAME\"],\n",
    "    azure_endpoint=os.environ[\"AZURE_OPENAI_ENDPOINT\"],\n",
    "    api_key=os.environ[\"AZURE_OPENAI_API_KEY\"],\n",
    "    api_version=os.environ[\"OPENAI_API_VERSION\"],\n",
    ")\n",
    "assistant = AssistantAgent(\"assistant\", model_client)\n",
    "web_surfer = MultimodalWebSurfer(\"web_surfer\", model_client)\n",
    "user_proxy = UserProxyAgent(\"user_proxy\")\n",
    "fetch_website_agent = ToolAgent(\"Fetch a website content to be markdown from url\", tool=fetch_website)\n",
    "termination = TextMentionTermination(\"exit\") # Type 'exit' to end the conversation.\n",
    "team = RoundRobinGroupChat([web_surfer, fetch_website_agent, assistant, user_proxy], termination_condition=termination)\n",
    "\n",
    "await Console(team.run_stream(task=\"Summarize all news about GenAI on TechCrunch in yesterday in cantonese\"))"
   ]
  },
  {
   "cell_type": "code",
   "execution_count": null,
   "metadata": {},
   "outputs": [],
   "source": []
  }
 ],
 "metadata": {
  "kernelspec": {
   "display_name": ".venv",
   "language": "python",
   "name": "python3"
  },
  "language_info": {
   "codemirror_mode": {
    "name": "ipython",
    "version": 3
   },
   "file_extension": ".py",
   "mimetype": "text/x-python",
   "name": "python",
   "nbconvert_exporter": "python",
   "pygments_lexer": "ipython3",
   "version": "3.12.6"
  }
 },
 "nbformat": 4,
 "nbformat_minor": 2
}
