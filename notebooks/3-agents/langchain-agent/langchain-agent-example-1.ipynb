{
 "cells": [
  {
   "cell_type": "markdown",
   "metadata": {},
   "source": [
    "# Example of ai agent approach using langchain"
   ]
  },
  {
   "cell_type": "code",
   "execution_count": 1,
   "metadata": {},
   "outputs": [
    {
     "name": "stdout",
     "output_type": "stream",
     "text": [
      "Requirement already satisfied: langchain-community in /Users/kan/my-workspaces/genai-samples/.venv/lib/python3.12/site-packages (0.3.19)\n",
      "Requirement already satisfied: langchain-openai in /Users/kan/my-workspaces/genai-samples/.venv/lib/python3.12/site-packages (0.2.14)\n",
      "Requirement already satisfied: langchain-core<1.0.0,>=0.3.41 in /Users/kan/my-workspaces/genai-samples/.venv/lib/python3.12/site-packages (from langchain-community) (0.3.44)\n",
      "Requirement already satisfied: langchain<1.0.0,>=0.3.20 in /Users/kan/my-workspaces/genai-samples/.venv/lib/python3.12/site-packages (from langchain-community) (0.3.20)\n",
      "Requirement already satisfied: SQLAlchemy<3,>=1.4 in /Users/kan/my-workspaces/genai-samples/.venv/lib/python3.12/site-packages (from langchain-community) (2.0.39)\n",
      "Requirement already satisfied: requests<3,>=2 in /Users/kan/my-workspaces/genai-samples/.venv/lib/python3.12/site-packages (from langchain-community) (2.32.3)\n",
      "Requirement already satisfied: PyYAML>=5.3 in /Users/kan/my-workspaces/genai-samples/.venv/lib/python3.12/site-packages (from langchain-community) (6.0.2)\n",
      "Requirement already satisfied: aiohttp<4.0.0,>=3.8.3 in /Users/kan/my-workspaces/genai-samples/.venv/lib/python3.12/site-packages (from langchain-community) (3.11.13)\n",
      "Requirement already satisfied: tenacity!=8.4.0,<10,>=8.1.0 in /Users/kan/my-workspaces/genai-samples/.venv/lib/python3.12/site-packages (from langchain-community) (9.0.0)\n",
      "Requirement already satisfied: dataclasses-json<0.7,>=0.5.7 in /Users/kan/my-workspaces/genai-samples/.venv/lib/python3.12/site-packages (from langchain-community) (0.6.7)\n",
      "Requirement already satisfied: pydantic-settings<3.0.0,>=2.4.0 in /Users/kan/my-workspaces/genai-samples/.venv/lib/python3.12/site-packages (from langchain-community) (2.8.1)\n",
      "Requirement already satisfied: langsmith<0.4,>=0.1.125 in /Users/kan/my-workspaces/genai-samples/.venv/lib/python3.12/site-packages (from langchain-community) (0.1.147)\n",
      "Requirement already satisfied: httpx-sse<1.0.0,>=0.4.0 in /Users/kan/my-workspaces/genai-samples/.venv/lib/python3.12/site-packages (from langchain-community) (0.4.0)\n",
      "Requirement already satisfied: numpy<3,>=1.26.2 in /Users/kan/my-workspaces/genai-samples/.venv/lib/python3.12/site-packages (from langchain-community) (2.2.3)\n",
      "Requirement already satisfied: openai<2.0.0,>=1.58.1 in /Users/kan/my-workspaces/genai-samples/.venv/lib/python3.12/site-packages (from langchain-openai) (1.66.2)\n",
      "Requirement already satisfied: tiktoken<1,>=0.7 in /Users/kan/my-workspaces/genai-samples/.venv/lib/python3.12/site-packages (from langchain-openai) (0.7.0)\n",
      "Requirement already satisfied: aiohappyeyeballs>=2.3.0 in /Users/kan/my-workspaces/genai-samples/.venv/lib/python3.12/site-packages (from aiohttp<4.0.0,>=3.8.3->langchain-community) (2.6.1)\n",
      "Requirement already satisfied: aiosignal>=1.1.2 in /Users/kan/my-workspaces/genai-samples/.venv/lib/python3.12/site-packages (from aiohttp<4.0.0,>=3.8.3->langchain-community) (1.3.2)\n",
      "Requirement already satisfied: attrs>=17.3.0 in /Users/kan/my-workspaces/genai-samples/.venv/lib/python3.12/site-packages (from aiohttp<4.0.0,>=3.8.3->langchain-community) (25.1.0)\n",
      "Requirement already satisfied: frozenlist>=1.1.1 in /Users/kan/my-workspaces/genai-samples/.venv/lib/python3.12/site-packages (from aiohttp<4.0.0,>=3.8.3->langchain-community) (1.5.0)\n",
      "Requirement already satisfied: multidict<7.0,>=4.5 in /Users/kan/my-workspaces/genai-samples/.venv/lib/python3.12/site-packages (from aiohttp<4.0.0,>=3.8.3->langchain-community) (6.1.0)\n",
      "Requirement already satisfied: propcache>=0.2.0 in /Users/kan/my-workspaces/genai-samples/.venv/lib/python3.12/site-packages (from aiohttp<4.0.0,>=3.8.3->langchain-community) (0.3.0)\n",
      "Requirement already satisfied: yarl<2.0,>=1.17.0 in /Users/kan/my-workspaces/genai-samples/.venv/lib/python3.12/site-packages (from aiohttp<4.0.0,>=3.8.3->langchain-community) (1.18.3)\n",
      "Requirement already satisfied: marshmallow<4.0.0,>=3.18.0 in /Users/kan/my-workspaces/genai-samples/.venv/lib/python3.12/site-packages (from dataclasses-json<0.7,>=0.5.7->langchain-community) (3.26.1)\n",
      "Requirement already satisfied: typing-inspect<1,>=0.4.0 in /Users/kan/my-workspaces/genai-samples/.venv/lib/python3.12/site-packages (from dataclasses-json<0.7,>=0.5.7->langchain-community) (0.9.0)\n",
      "Requirement already satisfied: langchain-text-splitters<1.0.0,>=0.3.6 in /Users/kan/my-workspaces/genai-samples/.venv/lib/python3.12/site-packages (from langchain<1.0.0,>=0.3.20->langchain-community) (0.3.6)\n",
      "Requirement already satisfied: pydantic<3.0.0,>=2.7.4 in /Users/kan/my-workspaces/genai-samples/.venv/lib/python3.12/site-packages (from langchain<1.0.0,>=0.3.20->langchain-community) (2.10.6)\n",
      "Requirement already satisfied: jsonpatch<2.0,>=1.33 in /Users/kan/my-workspaces/genai-samples/.venv/lib/python3.12/site-packages (from langchain-core<1.0.0,>=0.3.41->langchain-community) (1.33)\n",
      "Requirement already satisfied: packaging<25,>=23.2 in /Users/kan/my-workspaces/genai-samples/.venv/lib/python3.12/site-packages (from langchain-core<1.0.0,>=0.3.41->langchain-community) (24.2)\n",
      "Requirement already satisfied: typing-extensions>=4.7 in /Users/kan/my-workspaces/genai-samples/.venv/lib/python3.12/site-packages (from langchain-core<1.0.0,>=0.3.41->langchain-community) (4.12.2)\n",
      "Requirement already satisfied: httpx<1,>=0.23.0 in /Users/kan/my-workspaces/genai-samples/.venv/lib/python3.12/site-packages (from langsmith<0.4,>=0.1.125->langchain-community) (0.27.2)\n",
      "Requirement already satisfied: orjson<4.0.0,>=3.9.14 in /Users/kan/my-workspaces/genai-samples/.venv/lib/python3.12/site-packages (from langsmith<0.4,>=0.1.125->langchain-community) (3.10.15)\n",
      "Requirement already satisfied: requests-toolbelt<2.0.0,>=1.0.0 in /Users/kan/my-workspaces/genai-samples/.venv/lib/python3.12/site-packages (from langsmith<0.4,>=0.1.125->langchain-community) (1.0.0)\n",
      "Requirement already satisfied: anyio<5,>=3.5.0 in /Users/kan/my-workspaces/genai-samples/.venv/lib/python3.12/site-packages (from openai<2.0.0,>=1.58.1->langchain-openai) (4.8.0)\n",
      "Requirement already satisfied: distro<2,>=1.7.0 in /Users/kan/my-workspaces/genai-samples/.venv/lib/python3.12/site-packages (from openai<2.0.0,>=1.58.1->langchain-openai) (1.9.0)\n",
      "Requirement already satisfied: jiter<1,>=0.4.0 in /Users/kan/my-workspaces/genai-samples/.venv/lib/python3.12/site-packages (from openai<2.0.0,>=1.58.1->langchain-openai) (0.8.2)\n",
      "Requirement already satisfied: sniffio in /Users/kan/my-workspaces/genai-samples/.venv/lib/python3.12/site-packages (from openai<2.0.0,>=1.58.1->langchain-openai) (1.3.1)\n",
      "Requirement already satisfied: tqdm>4 in /Users/kan/my-workspaces/genai-samples/.venv/lib/python3.12/site-packages (from openai<2.0.0,>=1.58.1->langchain-openai) (4.67.1)\n",
      "Requirement already satisfied: python-dotenv>=0.21.0 in /Users/kan/my-workspaces/genai-samples/.venv/lib/python3.12/site-packages (from pydantic-settings<3.0.0,>=2.4.0->langchain-community) (1.0.1)\n",
      "Requirement already satisfied: charset-normalizer<4,>=2 in /Users/kan/my-workspaces/genai-samples/.venv/lib/python3.12/site-packages (from requests<3,>=2->langchain-community) (3.4.1)\n",
      "Requirement already satisfied: idna<4,>=2.5 in /Users/kan/my-workspaces/genai-samples/.venv/lib/python3.12/site-packages (from requests<3,>=2->langchain-community) (3.10)\n",
      "Requirement already satisfied: urllib3<3,>=1.21.1 in /Users/kan/my-workspaces/genai-samples/.venv/lib/python3.12/site-packages (from requests<3,>=2->langchain-community) (2.3.0)\n",
      "Requirement already satisfied: certifi>=2017.4.17 in /Users/kan/my-workspaces/genai-samples/.venv/lib/python3.12/site-packages (from requests<3,>=2->langchain-community) (2025.1.31)\n",
      "Requirement already satisfied: greenlet!=0.4.17 in /Users/kan/my-workspaces/genai-samples/.venv/lib/python3.12/site-packages (from SQLAlchemy<3,>=1.4->langchain-community) (3.1.1)\n",
      "Requirement already satisfied: regex>=2022.1.18 in /Users/kan/my-workspaces/genai-samples/.venv/lib/python3.12/site-packages (from tiktoken<1,>=0.7->langchain-openai) (2024.11.6)\n",
      "Requirement already satisfied: httpcore==1.* in /Users/kan/my-workspaces/genai-samples/.venv/lib/python3.12/site-packages (from httpx<1,>=0.23.0->langsmith<0.4,>=0.1.125->langchain-community) (1.0.7)\n",
      "Requirement already satisfied: h11<0.15,>=0.13 in /Users/kan/my-workspaces/genai-samples/.venv/lib/python3.12/site-packages (from httpcore==1.*->httpx<1,>=0.23.0->langsmith<0.4,>=0.1.125->langchain-community) (0.14.0)\n",
      "Requirement already satisfied: jsonpointer>=1.9 in /Users/kan/my-workspaces/genai-samples/.venv/lib/python3.12/site-packages (from jsonpatch<2.0,>=1.33->langchain-core<1.0.0,>=0.3.41->langchain-community) (3.0.0)\n",
      "Requirement already satisfied: annotated-types>=0.6.0 in /Users/kan/my-workspaces/genai-samples/.venv/lib/python3.12/site-packages (from pydantic<3.0.0,>=2.7.4->langchain<1.0.0,>=0.3.20->langchain-community) (0.7.0)\n",
      "Requirement already satisfied: pydantic-core==2.27.2 in /Users/kan/my-workspaces/genai-samples/.venv/lib/python3.12/site-packages (from pydantic<3.0.0,>=2.7.4->langchain<1.0.0,>=0.3.20->langchain-community) (2.27.2)\n",
      "Requirement already satisfied: mypy-extensions>=0.3.0 in /Users/kan/my-workspaces/genai-samples/.venv/lib/python3.12/site-packages (from typing-inspect<1,>=0.4.0->dataclasses-json<0.7,>=0.5.7->langchain-community) (1.0.0)\n",
      "Note: you may need to restart the kernel to use updated packages.\n"
     ]
    }
   ],
   "source": [
    "%pip install langchain-community langchain-openai"
   ]
  },
  {
   "cell_type": "code",
   "execution_count": 14,
   "metadata": {},
   "outputs": [
    {
     "data": {
      "text/plain": [
       "True"
      ]
     },
     "execution_count": 14,
     "metadata": {},
     "output_type": "execute_result"
    }
   ],
   "source": [
    "from dotenv import load_dotenv\n",
    "load_dotenv()"
   ]
  },
  {
   "cell_type": "markdown",
   "metadata": {},
   "source": [
    "### Example 1: llm with tools (no agent)"
   ]
  },
  {
   "cell_type": "code",
   "execution_count": 16,
   "metadata": {},
   "outputs": [
    {
     "name": "stdout",
     "output_type": "stream",
     "text": [
      "[{'name': 'sum_all_numbers', 'args': {'numbers': [1, 2, 3, 4, 5]}, 'id': 'call_Srty144SijmeNNGiEgxopJD0', 'type': 'tool_call'}]\n"
     ]
    }
   ],
   "source": [
    "import os\n",
    "from langchain_openai import AzureChatOpenAI\n",
    "\n",
    "llm = AzureChatOpenAI(\n",
    "    openai_api_key=os.getenv(\"AZURE_OPENAI_API_KEY\"),\n",
    "    azure_endpoint=os.getenv(\"AZURE_OPENAI_ENDPOINT\"),\n",
    "    azure_deployment=os.getenv(\"AZURE_OPENAI_DEPLOYMENT_NAME\"),\n",
    "    openai_api_version=os.getenv(\"OPENAI_API_VERSION\"),\n",
    ")\n",
    "\n",
    "@tool\n",
    "def sum_all_numbers(numbers):\n",
    "    \"\"\"\n",
    "    This tool takes a list of numbers and returns their sum.\n",
    "\n",
    "    Args:\n",
    "        numbers (list): A list of numbers to be summed.\n",
    "\n",
    "    Returns:\n",
    "        int: The sum of all numbers in the list.\n",
    "    \"\"\"\n",
    "    return sum(numbers)\n",
    "\n",
    "llm_with_tools = llm.bind_tools([sum_all_numbers])\n",
    "\n",
    "user_input = \"What is the sum of 1, 2, 3, 4, 5?\"\n",
    "result = llm_with_tools.invoke(user_input)\n",
    "print(result.tool_calls)"
   ]
  },
  {
   "cell_type": "markdown",
   "metadata": {},
   "source": [
    "### Example 2: Tools Agent"
   ]
  },
  {
   "cell_type": "code",
   "execution_count": 25,
   "metadata": {},
   "outputs": [
    {
     "name": "stdout",
     "output_type": "stream",
     "text": [
      "{'actions': [ToolAgentAction(tool='sum_all_numbers', tool_input={'numbers': [1, 2, 3, 4, 5]}, log=\"\\nInvoking: `sum_all_numbers` with `{'numbers': [1, 2, 3, 4, 5]}`\\n\\n\\n\", message_log=[AIMessageChunk(content='', additional_kwargs={'tool_calls': [{'index': 0, 'id': 'call_XC9S0pbCWzOmCv3dyceZrkkE', 'function': {'arguments': '{\"numbers\":[1,2,3,4,5]}', 'name': 'sum_all_numbers'}, 'type': 'function'}]}, response_metadata={'finish_reason': 'tool_calls', 'model_name': 'gpt-4o-2024-08-06', 'system_fingerprint': 'fp_b705f0c291'}, id='run-18d291bf-60eb-4f59-854e-5f8e23504b3a', tool_calls=[{'name': 'sum_all_numbers', 'args': {'numbers': [1, 2, 3, 4, 5]}, 'id': 'call_XC9S0pbCWzOmCv3dyceZrkkE', 'type': 'tool_call'}], tool_call_chunks=[{'name': 'sum_all_numbers', 'args': '{\"numbers\":[1,2,3,4,5]}', 'id': 'call_XC9S0pbCWzOmCv3dyceZrkkE', 'index': 0, 'type': 'tool_call_chunk'}])], tool_call_id='call_XC9S0pbCWzOmCv3dyceZrkkE')], 'messages': [AIMessageChunk(content='', additional_kwargs={'tool_calls': [{'index': 0, 'id': 'call_XC9S0pbCWzOmCv3dyceZrkkE', 'function': {'arguments': '{\"numbers\":[1,2,3,4,5]}', 'name': 'sum_all_numbers'}, 'type': 'function'}]}, response_metadata={'finish_reason': 'tool_calls', 'model_name': 'gpt-4o-2024-08-06', 'system_fingerprint': 'fp_b705f0c291'}, id='run-18d291bf-60eb-4f59-854e-5f8e23504b3a', tool_calls=[{'name': 'sum_all_numbers', 'args': {'numbers': [1, 2, 3, 4, 5]}, 'id': 'call_XC9S0pbCWzOmCv3dyceZrkkE', 'type': 'tool_call'}], tool_call_chunks=[{'name': 'sum_all_numbers', 'args': '{\"numbers\":[1,2,3,4,5]}', 'id': 'call_XC9S0pbCWzOmCv3dyceZrkkE', 'index': 0, 'type': 'tool_call_chunk'}])]}\n",
      "{'steps': [AgentStep(action=ToolAgentAction(tool='sum_all_numbers', tool_input={'numbers': [1, 2, 3, 4, 5]}, log=\"\\nInvoking: `sum_all_numbers` with `{'numbers': [1, 2, 3, 4, 5]}`\\n\\n\\n\", message_log=[AIMessageChunk(content='', additional_kwargs={'tool_calls': [{'index': 0, 'id': 'call_XC9S0pbCWzOmCv3dyceZrkkE', 'function': {'arguments': '{\"numbers\":[1,2,3,4,5]}', 'name': 'sum_all_numbers'}, 'type': 'function'}]}, response_metadata={'finish_reason': 'tool_calls', 'model_name': 'gpt-4o-2024-08-06', 'system_fingerprint': 'fp_b705f0c291'}, id='run-18d291bf-60eb-4f59-854e-5f8e23504b3a', tool_calls=[{'name': 'sum_all_numbers', 'args': {'numbers': [1, 2, 3, 4, 5]}, 'id': 'call_XC9S0pbCWzOmCv3dyceZrkkE', 'type': 'tool_call'}], tool_call_chunks=[{'name': 'sum_all_numbers', 'args': '{\"numbers\":[1,2,3,4,5]}', 'id': 'call_XC9S0pbCWzOmCv3dyceZrkkE', 'index': 0, 'type': 'tool_call_chunk'}])], tool_call_id='call_XC9S0pbCWzOmCv3dyceZrkkE'), observation=15)], 'messages': [FunctionMessage(content='15', additional_kwargs={}, response_metadata={}, name='sum_all_numbers')]}\n",
      "{'output': 'The sum of 1, 2, 3, 4, and 5 is 15.', 'messages': [AIMessage(content='The sum of 1, 2, 3, 4, and 5 is 15.', additional_kwargs={}, response_metadata={})]}\n"
     ]
    }
   ],
   "source": [
    "from langchain.agents import AgentExecutor, create_tool_calling_agent\n",
    "from langchain.prompts import ChatPromptTemplate\n",
    "\n",
    "prompt = ChatPromptTemplate.from_messages([\n",
    "    (\"system\", \"You are a helpful assistant\"),\n",
    "    (\"human\", \"{input}\"),\n",
    "    (\"human\", \"{agent_scratchpad}\")\n",
    "])\n",
    "\n",
    "agent = create_tool_calling_agent(llm, [sum_all_numbers], prompt)\n",
    "executor = AgentExecutor(agent=agent, tools=[sum_all_numbers])\n",
    "\n",
    "# Change to streaming output\n",
    "for chunk in executor.stream({\"input\": \"What is the sum of 1, 2, 3, 4, 5?\"}):\n",
    "    print(chunk)\n"
   ]
  }
 ],
 "metadata": {
  "kernelspec": {
   "display_name": ".venv",
   "language": "python",
   "name": "python3"
  },
  "language_info": {
   "codemirror_mode": {
    "name": "ipython",
    "version": 3
   },
   "file_extension": ".py",
   "mimetype": "text/x-python",
   "name": "python",
   "nbconvert_exporter": "python",
   "pygments_lexer": "ipython3",
   "version": "3.12.6"
  }
 },
 "nbformat": 4,
 "nbformat_minor": 2
}
